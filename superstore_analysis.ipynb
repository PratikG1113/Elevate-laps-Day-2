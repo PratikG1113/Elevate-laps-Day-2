{
 "cells": [
  {
   "cell_type": "markdown",
   "id": "8ff3fe92",
   "metadata": {},
   "source": [
    "# 📊 Superstore Sales Analysis\n",
    "\n",
    "This notebook provides visualizations for key sales insights based on a synthetic Superstore dataset."
   ]
  },
  {
   "cell_type": "code",
   "execution_count": null,
   "id": "1b0ba1e1",
   "metadata": {},
   "outputs": [],
   "source": [
    "import pandas as pd\n",
    "import matplotlib.pyplot as plt\n",
    "import seaborn as sns\n",
    "import plotly.express as px\n",
    "\n",
    "# Load dataset\n",
    "df = pd.read_csv(\"superstore_synthetic.csv\")\n",
    "df['Order Date'] = pd.to_datetime(df['Order Date'])\n",
    "df['Month'] = df['Order Date'].dt.to_period('M')"
   ]
  },
  {
   "cell_type": "markdown",
   "id": "2c70e472",
   "metadata": {},
   "source": [
    "## 1. Monthly Sales Trend"
   ]
  },
  {
   "cell_type": "code",
   "execution_count": null,
   "id": "917b4087",
   "metadata": {},
   "outputs": [],
   "source": [
    "monthly_sales = df.groupby('Month')['Sales'].sum().reset_index()\n",
    "monthly_sales['Month'] = monthly_sales['Month'].astype(str)\n",
    "\n",
    "plt.figure(figsize=(10, 5))\n",
    "sns.lineplot(data=monthly_sales, x='Month', y='Sales', marker='o')\n",
    "plt.title(\"Monthly Sales Trend\")\n",
    "plt.xticks(rotation=45)\n",
    "plt.tight_layout()\n",
    "plt.show()"
   ]
  },
  {
   "cell_type": "markdown",
   "id": "626a9c4e",
   "metadata": {},
   "source": [
    "## 2. Profit by Category"
   ]
  },
  {
   "cell_type": "code",
   "execution_count": null,
   "id": "e6aed824",
   "metadata": {},
   "outputs": [],
   "source": [
    "plt.figure(figsize=(7, 5))\n",
    "sns.barplot(data=df, x='Category', y='Profit', estimator=sum)\n",
    "plt.title(\"Total Profit by Category\")\n",
    "plt.tight_layout()\n",
    "plt.show()"
   ]
  },
  {
   "cell_type": "markdown",
   "id": "64f6a005",
   "metadata": {},
   "source": [
    "## 3. Sales by Region"
   ]
  },
  {
   "cell_type": "code",
   "execution_count": null,
   "id": "e41dc169",
   "metadata": {},
   "outputs": [],
   "source": [
    "plt.figure(figsize=(7, 5))\n",
    "sns.barplot(data=df, x='Region', y='Sales', estimator=sum)\n",
    "plt.title(\"Total Sales by Region\")\n",
    "plt.tight_layout()\n",
    "plt.show()"
   ]
  },
  {
   "cell_type": "markdown",
   "id": "2c5076d3",
   "metadata": {},
   "source": [
    "## 4. Segment-wise Sales Distribution"
   ]
  },
  {
   "cell_type": "code",
   "execution_count": null,
   "id": "f46d3dcc",
   "metadata": {},
   "outputs": [],
   "source": [
    "segment_sales = df.groupby('Segment')['Sales'].sum()\n",
    "plt.figure(figsize=(6, 6))\n",
    "plt.pie(segment_sales, labels=segment_sales.index, autopct='%1.1f%%', startangle=140)\n",
    "plt.title(\"Segment-wise Sales Distribution\")\n",
    "plt.tight_layout()\n",
    "plt.show()"
   ]
  },
  {
   "cell_type": "markdown",
   "id": "3f5c93ae",
   "metadata": {},
   "source": [
    "## 5. Sub-Category Profit Heatmap by Region"
   ]
  },
  {
   "cell_type": "code",
   "execution_count": null,
   "id": "44a6994c",
   "metadata": {},
   "outputs": [],
   "source": [
    "pivot = df.pivot_table(index='Sub-Category', columns='Region', values='Profit', aggfunc='sum')\n",
    "plt.figure(figsize=(10, 6))\n",
    "sns.heatmap(pivot, annot=True, fmt=\".0f\", cmap=\"RdYlGn\", linewidths=.5)\n",
    "plt.title(\"Sub-Category Profit Heatmap by Region\")\n",
    "plt.tight_layout()\n",
    "plt.show()"
   ]
  },
  {
   "cell_type": "markdown",
   "id": "cc3c264b",
   "metadata": {},
   "source": [
    "## 6. Sales by Ship Mode and Region"
   ]
  },
  {
   "cell_type": "code",
   "execution_count": null,
   "id": "6d086643",
   "metadata": {},
   "outputs": [],
   "source": [
    "ship_mode_sales = df.groupby(['Region', 'Ship Mode'])['Sales'].sum().unstack()\n",
    "ship_mode_sales.plot(kind='bar', stacked=True, figsize=(10, 6))\n",
    "plt.title(\"Sales by Ship Mode and Region\")\n",
    "plt.ylabel(\"Total Sales\")\n",
    "plt.xticks(rotation=0)\n",
    "plt.tight_layout()\n",
    "plt.show()"
   ]
  }
 ],
 "metadata": {},
 "nbformat": 4,
 "nbformat_minor": 5
}